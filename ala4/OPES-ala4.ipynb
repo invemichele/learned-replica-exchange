{
 "cells": [
  {
   "cell_type": "markdown",
   "id": "b5f02a2f-f77d-456b-9ad1-1ac1d26e14f5",
   "metadata": {},
   "source": [
    "# Run biased MD with OPES\n",
    "\n",
    "To be used to calculate a reference free enegy.\n",
    "\n",
    "More information about OPES can be found [here](https://www.plumed.org/doc-master/user-doc/html/_o_p_e_s__m_e_t_a_d.html)"
   ]
  },
  {
   "cell_type": "code",
   "execution_count": 1,
   "id": "e17ba8d2-1666-4a81-b096-0b6ae0e20a96",
   "metadata": {},
   "outputs": [],
   "source": [
    "import numpy as np\n",
    "import mdtraj as md\n",
    "\n",
    "import matplotlib.pyplot as plt\n",
    "from IPython.display import clear_output"
   ]
  },
  {
   "cell_type": "code",
   "execution_count": 2,
   "id": "0facb627-2253-4a87-85d1-7b86ce5cb7ba",
   "metadata": {},
   "outputs": [],
   "source": [
    "import openmm\n",
    "from openmm import unit\n",
    "kB = unit.MOLAR_GAS_CONSTANT_R.value_in_unit(unit.kilojoule_per_mole/unit.kelvin)"
   ]
  },
  {
   "cell_type": "code",
   "execution_count": 3,
   "id": "13afa81c-8945-4ba8-afcc-6b56e80e505b",
   "metadata": {},
   "outputs": [],
   "source": [
    "#handy function for the model system\n",
    "import bgmol\n",
    "\n",
    "def get_model(system_name, temperature=None):\n",
    "    \n",
    "    model = bgmol.system_by_name(system_name.replace('ModifiedPSI',''))\n",
    "    \n",
    "    if 'ModifiedPSI' in system_name:\n",
    "        extraBias_str = '100*sin(0.5*theta)^2'\n",
    "        extraBias = openmm.CustomTorsionForce(extraBias_str)\n",
    "        psi_angles = md.compute_psi(md.Trajectory(model.positions, model.mdtraj_topology))[0]\n",
    "        for i in range(len(psi_angles)):\n",
    "            extraBias.addTorsion(*psi_angles[i])\n",
    "            print(f\"{system_name}, adding bias on psi{psi_angles[i]}: {extraBias_str}\")\n",
    "        model.system.addForce(extraBias)        \n",
    "    \n",
    "    if temperature is not None:\n",
    "        model.reinitialize_energy_model(temperature=temperature)\n",
    "    \n",
    "    return model"
   ]
  },
  {
   "cell_type": "code",
   "execution_count": 4,
   "id": "f2c5f39b-8599-4439-9eae-7deb24a9d494",
   "metadata": {},
   "outputs": [
    {
     "name": "stdout",
     "output_type": "stream",
     "text": [
      "Using downloaded and verified file: /tmp/AAA.pdb\n"
     ]
    },
    {
     "data": {
      "text/plain": [
       "(42, 3)"
      ]
     },
     "execution_count": 4,
     "metadata": {},
     "output_type": "execute_result"
    }
   ],
   "source": [
    "#setup the system\n",
    "temp = 300\n",
    "\n",
    "system_name = 'AlanineTetrapeptideImplicit'\n",
    "\n",
    "model = get_model(system_name)\n",
    "model.positions.shape"
   ]
  },
  {
   "cell_type": "code",
   "execution_count": 5,
   "id": "2be67ea7-10cc-4696-876d-65323d4bd3cb",
   "metadata": {
    "jupyter": {
     "source_hidden": true
    },
    "tags": []
   },
   "outputs": [],
   "source": [
    "#some plotting functions\n",
    "from matplotlib.colors import LogNorm\n",
    "\n",
    "def get_phi_psi(trajectory, i=-1, model=model):\n",
    "    if not isinstance(trajectory, md.Trajectory):\n",
    "        # if isinstance(trajectory, torch.Tensor):\n",
    "        #     trajectory = assert_numpy(trajectory.view(len(trajectory), *model.positions.shape))\n",
    "        trajectory = md.Trajectory(trajectory, model.mdtraj_topology)\n",
    "    phi = md.compute_phi(trajectory)[1][:,i]\n",
    "    psi = md.compute_psi(trajectory)[1][:,i]\n",
    "    return phi, psi\n",
    "\n",
    "def plot_rama_traj(trajectory, w=None, get_phi=False, i=-1, model=model):\n",
    "    phi, psi = get_phi_psi(trajectory, i)\n",
    "    plot_range = [-np.pi, np.pi]\n",
    "    \n",
    "    #histogram\n",
    "    plt.figure(figsize=(14, 4))\n",
    "    plt.subplot(1,2,1)\n",
    "    plt.title(\"Histogram\")\n",
    "    plt.hist2d(phi, psi, 60, weights=w, norm=LogNorm(), range=[plot_range,plot_range])\n",
    "    plt.xlim(plot_range)\n",
    "    plt.ylim(plot_range)\n",
    "    plt.xlabel(\"$\\phi$\")\n",
    "    plt.ylabel(\"$\\psi$\")\n",
    "    plt.gca().set_box_aspect(1)\n",
    "    \n",
    "    #trajectory\n",
    "    plt.subplot(1,2,2)\n",
    "    plt.title(\"Trajectory\")\n",
    "    end = len(phi)\n",
    "    plt.scatter(range(end), phi, c=psi, s=10)\n",
    "    plt.xlim([0, end])\n",
    "    plt.xlabel(\"n_iter\")\n",
    "    plt.ylabel(\"$\\phi$\")\n",
    "    plt.gca().set_box_aspect(0.5)\n",
    "    plt.show()\n",
    "    \n",
    "    if get_phi:\n",
    "        return phi\n",
    "\n",
    "def plot_phi_FES(phi, w=None, n_bins='auto', T_high=temp, T_low=temp, ymax=20):\n",
    "    plot_range = (-np.pi, np.pi)\n",
    "    hist, edges = np.histogram(phi, bins=n_bins, range=plot_range)\n",
    "    fes_estimate = -np.log(np.where(hist!=0,hist/hist.max(),np.nan))\n",
    "    plt.plot(edges[:-1]+(edges[1]-edges[0])/2, fes_estimate, label=\"direct FES\")\n",
    "    DeltaF_T_high = None\n",
    "    DeltaF_T_low = None\n",
    "    try:\n",
    "        ref_file = f'../FESreference/FES-{prior_name}-T{T_high}.dat'\n",
    "        phi_ref, fes_ref = np.loadtxt(ref_file, usecols=(0,1), unpack=True)\n",
    "        fes_ref /= (kB*T_high)\n",
    "        plt.plot(phi_ref, fes_ref, label=f\"reference {T_high}K\", linestyle='dotted')\n",
    "        ymax = max(ymax, np.amax(fes_ref))\n",
    "        DeltaF_T_high = np.logaddexp.reduce(-fes_ref[phi_ref<0])-np.logaddexp.reduce(-fes_ref[phi_ref>0])\n",
    "    except IOError:\n",
    "        print('+++ Ref. file not found: '+ref_file+' +++')\n",
    "    if w is not None:\n",
    "        if n_bins == 'auto':\n",
    "            n_bins = 50\n",
    "        hist, edges =np.histogram(phi, bins=n_bins, range=plot_range, weights=w)\n",
    "        fes_estimate = -np.log(np.where(hist!=0,hist/hist.max(),np.nan))\n",
    "        plt.plot(edges[:-1]+(edges[1]-edges[0])/2, fes_estimate, label=\"reweighted FES\")\n",
    "        try:\n",
    "            ref_file = f'../FESreference/FES-{target_name}-T{T_low}.dat'\n",
    "            phi_ref, fes_ref = np.loadtxt(ref_file, usecols=(0,1), unpack=True)\n",
    "            fes_ref /= (kB*T_low)\n",
    "            plt.plot(phi_ref, fes_ref, label=f\"reference {T_low}K\", linestyle='dotted')\n",
    "            ymax = max(ymax, np.amax(fes_ref))\n",
    "            DeltaF_T_low = np.logaddexp.reduce(-fes_ref[phi_ref<0])-np.logaddexp.reduce(-fes_ref[phi_ref>0])\n",
    "        except IOError:\n",
    "            print('+++ Ref. file not found: '+ref_file+' +++')\n",
    "    plt.xlim(plot_range)\n",
    "    plt.ylim(bottom=0, top=min(ymax, max(fes_estimate)))\n",
    "    plt.xlabel(\"$\\phi$\")\n",
    "    plt.ylabel(\"FES\")\n",
    "    plt.legend()\n",
    "    plt.show()\n",
    "    #references are from OPES\n",
    "    if DeltaF_T_high is not None:\n",
    "        print(f'DeltaF at {T_high:4g}K: {DeltaF_T_high:.3f}')\n",
    "    if DeltaF_T_low is not None:\n",
    "        print(f'DeltaF at {T_low:4g}K: {DeltaF_T_low:.3f}')\n",
    "    DeltaF = -np.log(np.count_nonzero(phi>0) / np.count_nonzero(phi<0))\n",
    "    print('  DeltaF direct: %.3f' % DeltaF)\n",
    "    if w is not None:\n",
    "        DeltaF = -np.log(np.sum(w[phi>0]) / np.sum(w[phi<0]))\n",
    "        print('DeltaF reweight: %.3f' % DeltaF)"
   ]
  },
  {
   "cell_type": "code",
   "execution_count": 6,
   "id": "b6b36acc-ed72-4a4e-9046-365d7e8870df",
   "metadata": {},
   "outputs": [
    {
     "name": "stdout",
     "output_type": "stream",
     "text": [
      "CPU times: user 10.1 s, sys: 2.44 s, total: 12.5 s\n",
      "Wall time: 12.7 s\n"
     ]
    }
   ],
   "source": [
    "%%time\n",
    "#equilibrate\n",
    "\n",
    "pace = 500\n",
    "n_equil = 500\n",
    "\n",
    "integrator = openmm.LangevinMiddleIntegrator(temp*unit.kelvin, 1./unit.picosecond, 2.*unit.femtosecond)\n",
    "simulation = openmm.app.Simulation(model.topology, model.system, integrator)\n",
    "simulation.context.setPositions(model.positions)\n",
    "\n",
    "simulation.minimizeEnergy()\n",
    "simulation.step(pace*n_equil)\n",
    "\n",
    "equil_positions = simulation.context.getState(getPositions=True).getPositions()"
   ]
  },
  {
   "cell_type": "code",
   "execution_count": 7,
   "id": "15ea8c83-06ee-4f8a-8339-1bed288d6e06",
   "metadata": {},
   "outputs": [
    {
     "name": "stderr",
     "output_type": "stream",
     "text": [
      "Warning: importing 'simtk.openmm' is deprecated.  Import 'openmm' instead.\n"
     ]
    },
    {
     "name": "stdout",
     "output_type": "stream",
     "text": [
      "Using downloaded and verified file: /tmp/AAA.pdb\n"
     ]
    },
    {
     "data": {
      "text/plain": [
       "[<openmm.openmm.HarmonicBondForce; proxy of <Swig Object of type 'OpenMM::HarmonicBondForce *' at 0x7f1fcb706f90> >,\n",
       " <openmm.openmm.HarmonicAngleForce; proxy of <Swig Object of type 'OpenMM::HarmonicAngleForce *' at 0x7f1fcbc2fea0> >,\n",
       " <openmm.openmm.PeriodicTorsionForce; proxy of <Swig Object of type 'OpenMM::PeriodicTorsionForce *' at 0x7f1fc41787b0> >,\n",
       " <openmm.openmm.NonbondedForce; proxy of <Swig Object of type 'OpenMM::NonbondedForce *' at 0x7f1fc4178840> >,\n",
       " <openmm.openmm.GBSAOBCForce; proxy of <Swig Object of type 'OpenMM::GBSAOBCForce *' at 0x7f1fc41788d0> >,\n",
       " <openmm.openmm.CMMotionRemover; proxy of <Swig Object of type 'OpenMM::CMMotionRemover *' at 0x7f1fc4178960> >,\n",
       " <openmm.openmm.Force; proxy of <Swig Object of type 'OpenMM::Force *' at 0x7f1fc41789f0> >]"
      ]
     },
     "execution_count": 7,
     "metadata": {},
     "output_type": "execute_result"
    }
   ],
   "source": [
    "#add plumed force\n",
    "from openmmplumed import PlumedForce\n",
    "\n",
    "system_name = 'AlanineTetrapeptideImplicit'\n",
    "temp = 300\n",
    "pace = 500\n",
    "\n",
    "plumed_dat = '# vim:ft=plumed\\n'\n",
    "if 'AlanineDipeptide' in system_name:\n",
    "    plumed_dat +=  f\"\"\"\n",
    "phi: TORSION ATOMS=5,7,9,15\n",
    "psi: TORSION ATOMS=7,9,15,17\n",
    "\n",
    "opes: OPES_METAD TEMP={temp} ARG=phi,psi PACE={pace} BARRIER=40 NLIST\n",
    "\n",
    "PRINT FILE=COLVAR STRIDE={pace} FMT=%g ARG=*\n",
    "    \"\"\"\n",
    "elif 'AlanineTetrapeptide' in system_name:\n",
    "    plumed_dat +=  f\"\"\"\n",
    "phi1: TORSION ATOMS=5,7,9,15\n",
    "phi2: TORSION ATOMS=15,17,19,25\n",
    "phi3: TORSION ATOMS=25,27,29,35\n",
    "psi1: TORSION ATOMS=7,9,15,17\n",
    "psi2: TORSION ATOMS=17,19,25,27\n",
    "psi3: TORSION ATOMS=27,29,35,37\n",
    "\n",
    "opes: OPES_METAD TEMP={temp} ARG=phi1,phi2,phi3 PACE={pace} BARRIER=40 NLIST\n",
    "\n",
    "PRINT FILE=COLVAR STRIDE={pace} FMT=%g ARG=*\n",
    "    \"\"\"\n",
    "else:\n",
    "    assert False, 'unknown systsem: ' + system_name\n",
    "\n",
    "model = get_model(system_name)\n",
    "model.system.addForce(PlumedForce(plumed_dat))\n",
    "\n",
    "plumed_dat += f'\\nENDPLUMED\\nfile generated automatically when running the notebook'\n",
    "with open('plumed.dat', 'w') as f:\n",
    "    f.write(plumed_dat)\n",
    "\n",
    "model.system.getForces()"
   ]
  },
  {
   "cell_type": "code",
   "execution_count": null,
   "id": "5fb58b7d-a170-4363-81de-364cdbb7214e",
   "metadata": {},
   "outputs": [
    {
     "data": {
      "image/png": "[encoded data removed]",
      "text/plain": [
       "<Figure size 1008x288 with 2 Axes>"
      ]
     },
     "metadata": {
      "needs_background": "light"
     },
     "output_type": "display_data"
    },
    {
     "name": "stdout",
     "output_type": "stream",
     "text": [
      "sampling...  1.15%\r"
     ]
    }
   ],
   "source": [
    "%%time\n",
    "#run the biased MD\n",
    "\n",
    "pace = 500\n",
    "n_iter = 40_000\n",
    "\n",
    "integrator = openmm.LangevinMiddleIntegrator(temp*unit.kelvin, 1./unit.picosecond, 2.*unit.femtosecond)\n",
    "simulation = openmm.app.Simulation(model.topology, model.system, integrator)\n",
    "simulation.context.setPositions(equil_positions)\n",
    "MDdata = np.empty((n_iter, *model.positions.shape))\n",
    "\n",
    "    \n",
    "#run MD\n",
    "for n in range(n_iter):\n",
    "    simulation.step(pace)\n",
    "    MDdata[n] = simulation.context.getState(getPositions=True).getPositions().value_in_unit(unit.nanometers)\n",
    "    if (n+1) % (n_iter//100) == 0:\n",
    "        clear_output(wait=True)\n",
    "        if 'Chignolin' in system_name:\n",
    "            plot_tics_traj(MDdata[:n+1])\n",
    "        else:\n",
    "            plot_rama_traj(MDdata[:n+1])\n",
    "    print(f'sampling...  {n/n_iter:.2%}', end='\\r')"
   ]
  },
  {
   "cell_type": "code",
   "execution_count": null,
   "id": "f716a5c3-4d75-49d0-bd72-ed5a5f4b7f9d",
   "metadata": {},
   "outputs": [],
   "source": [
    "from plumed import read_as_pandas\n",
    "colvar = read_as_pandas('COLVAR')\n",
    "time = colvar['time']\n",
    "logw = colvar['opes.bias']/(kB*temp)\n",
    "if 'Tetra' in system_name:\n",
    "    phi = colvar['phi3']\n",
    "    psi = colvar['psi3']\n",
    "else:\n",
    "    phi = colvar['phi']\n",
    "    psi = colvar['psi']"
   ]
  },
  {
   "cell_type": "code",
   "execution_count": null,
   "id": "3ca69096-0ecf-4b9a-90e7-631c03573058",
   "metadata": {},
   "outputs": [],
   "source": [
    "plt.plot(time, logw, '.')\n",
    "plt.xlabel('time')\n",
    "plt.ylabel('bias')\n",
    "plt.show()\n",
    "plot_FES(phi, w=np.exp(logw), ymax=100, n_bins=100)"
   ]
  },
  {
   "cell_type": "code",
   "execution_count": null,
   "id": "390bf5fc-2002-4f08-bbfe-ffcbfb652fbe",
   "metadata": {},
   "outputs": [],
   "source": [
    "from calcFES import calcFES\n",
    "\n",
    "grid = np.linspace(-np.pi, np.pi, 75)\n",
    "grid2D = np.meshgrid(grid, grid)\n",
    "\n",
    "bw = 0.1\n",
    "fes = calcFES(grid2D, (bw,bw), (phi,psi), logw, periodic=True)\n",
    "plt.imshow(fes, vmax=16, origin='lower')\n",
    "plt.colorbar(label='Free Energy [$k_\\mathrm{B}T$]', extend='max')\n",
    "plt.xlabel('$\\phi$')\n",
    "plt.ylabel('$\\psi$')\n",
    "plt.show()"
   ]
  },
  {
   "cell_type": "code",
   "execution_count": null,
   "id": "ba452163-6d09-491e-b27b-ee82e06ea84e",
   "metadata": {},
   "outputs": [],
   "source": [
    "bw = 0.05\n",
    "fes = calcFES(grid, bw, phi, logw, periodic=True)\n",
    "plt.plot(grid, fes, label='reweighted')\n",
    "# plot_FES(phi, ymax=100, n_bins=100)\n",
    "plot_FES(phi, w=np.exp(logw), ymax=100, n_bins=100)"
   ]
  },
  {
   "cell_type": "code",
   "execution_count": null,
   "id": "b5d541b0-d179-433f-bf4d-1c60ecff98fe",
   "metadata": {},
   "outputs": [],
   "source": []
  }
 ],
 "metadata": {
  "kernelspec": {
   "display_name": "Python 3 (ipykernel)",
   "language": "python",
   "name": "python3"
  },
  "language_info": {
   "codemirror_mode": {
    "name": "ipython",
    "version": 3
   },
   "file_extension": ".py",
   "mimetype": "text/x-python",
   "name": "python",
   "nbconvert_exporter": "python",
   "pygments_lexer": "ipython3",
   "version": "3.9.13"
  }
 },
 "nbformat": 4,
 "nbformat_minor": 5
}
